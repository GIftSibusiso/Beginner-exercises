{
  "nbformat": 4,
  "nbformat_minor": 0,
  "metadata": {
    "colab": {
      "name": "Copy of BEDA_answers.ipynb",
      "provenance": [],
      "collapsed_sections": [],
      "authorship_tag": "ABX9TyOJEiXIRLM/ZI1PCnzAYqfj",
      "include_colab_link": true
    },
    "kernelspec": {
      "name": "python3",
      "display_name": "Python 3"
    },
    "language_info": {
      "name": "python"
    }
  },
  "cells": [
    {
      "cell_type": "markdown",
      "metadata": {
        "id": "view-in-github",
        "colab_type": "text"
      },
      "source": [
        "<a href=\"https://colab.research.google.com/github/GIftSibusiso/Git_repos/blob/master/Copy_of_BEDA_answers.ipynb\" target=\"_parent\"><img src=\"https://colab.research.google.com/assets/colab-badge.svg\" alt=\"Open In Colab\"/></a>"
      ]
    },
    {
      "cell_type": "markdown",
      "source": [
        "# Health and demographic data for the period 2014-2015\n",
        "\n",
        "\n",
        "## 1. Missing values"
      ],
      "metadata": {
        "id": "LmTBwJZOflkr"
      }
    },
    {
      "cell_type": "code",
      "execution_count": 29,
      "metadata": {
        "colab": {
          "base_uri": "https://localhost:8080/"
        },
        "id": "v0zTASihegi7",
        "outputId": "79163050-aa0c-4a94-da99-f2eae0e5e6ec"
      },
      "outputs": [
        {
          "output_type": "stream",
          "name": "stdout",
          "text": [
            "Number of missing values per column:\n",
            " Country                           0\n",
            "Region                            0\n",
            "Population                        0\n",
            "Under15                           0\n",
            "Over60                            0\n",
            "FertilityRate                    11\n",
            "LifeExpectancy                    0\n",
            "ChildMortality                    0\n",
            "CellularSubscribers              10\n",
            "LiteracyRate                     91\n",
            "GNI                              32\n",
            "PrimarySchoolEnrollmentMale      93\n",
            "PrimarySchoolEnrollmentFemale    93\n",
            "dtype: int64 \n",
            "\n",
            "Total number of missing values = 330\n"
          ]
        }
      ],
      "source": [
        "from matplotlib import pyplot as plt\n",
        "import pandas as pd\n",
        "\n",
        "database = pd.read_csv(\"data.csv\")\n",
        "missing_values = database.isnull().sum()\n",
        "total = sum(missing_values)\n",
        "\n",
        "print(\"Number of missing values per column:\\n\", missing_values, \"\\n\\nTotal number of missing values =\", total)"
      ]
    },
    {
      "cell_type": "markdown",
      "source": [
        "The columns have no relationship meaning we cannot use the available data to calculate missing values and predicting/estimating missing values by observing the given data will also result to inaccurate analysis of data. It is best to remove/filter missing data relative to the analysis and work with only the given data to get more precise results."
      ],
      "metadata": {
        "id": "7GIgC1Chit9o"
      }
    },
    {
      "cell_type": "markdown",
      "source": [
        "## 2. Problems with data"
      ],
      "metadata": {
        "id": "xaVbX41CsH8G"
      }
    },
    {
      "cell_type": "code",
      "source": [
        "print(database.info())"
      ],
      "metadata": {
        "colab": {
          "base_uri": "https://localhost:8080/"
        },
        "id": "w-6dS703sWjo",
        "outputId": "73a89a13-3936-4fcb-f3cf-d4bc817e5bd8"
      },
      "execution_count": 30,
      "outputs": [
        {
          "output_type": "stream",
          "name": "stdout",
          "text": [
            "<class 'pandas.core.frame.DataFrame'>\n",
            "RangeIndex: 194 entries, 0 to 193\n",
            "Data columns (total 13 columns):\n",
            " #   Column                         Non-Null Count  Dtype  \n",
            "---  ------                         --------------  -----  \n",
            " 0   Country                        194 non-null    object \n",
            " 1   Region                         194 non-null    object \n",
            " 2   Population                     194 non-null    int64  \n",
            " 3   Under15                        194 non-null    float64\n",
            " 4   Over60                         194 non-null    float64\n",
            " 5   FertilityRate                  183 non-null    float64\n",
            " 6   LifeExpectancy                 194 non-null    int64  \n",
            " 7   ChildMortality                 194 non-null    float64\n",
            " 8   CellularSubscribers            184 non-null    float64\n",
            " 9   LiteracyRate                   103 non-null    float64\n",
            " 10  GNI                            162 non-null    float64\n",
            " 11  PrimarySchoolEnrollmentMale    101 non-null    float64\n",
            " 12  PrimarySchoolEnrollmentFemale  101 non-null    float64\n",
            "dtypes: float64(9), int64(2), object(2)\n",
            "memory usage: 19.8+ KB\n",
            "None\n"
          ]
        }
      ]
    },
    {
      "cell_type": "markdown",
      "source": [
        "Except the missing values there are no other problems in the data."
      ],
      "metadata": {
        "id": "t0h7cW8PFFOF"
      }
    },
    {
      "cell_type": "markdown",
      "source": [
        "## 3. Countries with the lowest or highest percentage of population under 15"
      ],
      "metadata": {
        "id": "f99Yp-XfFTa3"
      }
    },
    {
      "cell_type": "code",
      "source": [
        "lowest_percentage_under15 = min(database[\"Under15\"])\n",
        "lowest_country_under15 = database[database[\"Under15\"] == lowest_percentage_under15][\"Country\"]\n",
        "\n",
        "highest_percentage_under15 = max(database[\"Under15\"])\n",
        "highest_country_under15 = database[database[\"Under15\"] == highest_percentage_under15][\"Country\"]\n",
        "\n",
        "print(f\"Lowest population country:\\nPercentage = {lowest_percentage_under15}%\\n{lowest_country_under15}\\n\")\n",
        "print(f\"Highest population country:\\nPercentage = {highest_percentage_under15}%\\n{highest_country_under15}\")\n"
      ],
      "metadata": {
        "colab": {
          "base_uri": "https://localhost:8080/"
        },
        "id": "4WwMsQ6tGAa2",
        "outputId": "4ea9f615-8993-4b6f-f43c-52207be21f7e"
      },
      "execution_count": 31,
      "outputs": [
        {
          "output_type": "stream",
          "name": "stdout",
          "text": [
            "Lowest population country:\n",
            "Percentage = 13.12%\n",
            "85    Japan\n",
            "Name: Country, dtype: object\n",
            "\n",
            "Highest population country:\n",
            "Percentage = 49.99%\n",
            "123    Niger\n",
            "Name: Country, dtype: object\n"
          ]
        }
      ]
    },
    {
      "cell_type": "markdown",
      "source": [
        "Japan is the country with the lowest percentage of population under 15, out of 127 000 000 people only 16 663 000 people are under 15 meaning about 13.12% of its population is under 15. The country with the highest percentage population under 15 is Niger with a percentage of 49.99% meaning out of 17 157 000 people 8 577 000 people are under 15.\n",
        "\n",
        "Observing the two countries(Japan and Niger) you can conclude that the country with the highest number of population within it has the lesser number of people under 15 and comversely."
      ],
      "metadata": {
        "id": "Ud_L1jk7hwg5"
      }
    },
    {
      "cell_type": "markdown",
      "source": [
        "## 4. Region with the highest percentage of population over 60"
      ],
      "metadata": {
        "id": "QEyQt48DuqJc"
      }
    },
    {
      "cell_type": "code",
      "source": [
        "regions = list(database.drop_duplicates(subset=\"Region\", keep=\"first\", inplace=False)[\"Region\"])\n",
        "print(\"List of regions and their population percentage over 60:\")\n",
        "for region in regions:\n",
        "  region_mean = sum(database[database[\"Region\"] == region][\"Over60\"]) / len(database[database[\"Region\"] == region][\"Over60\"])\n",
        "  \n",
        "  print(f\">>> {region} = {region_mean}%\")\n"
      ],
      "metadata": {
        "colab": {
          "base_uri": "https://localhost:8080/"
        },
        "id": "O75wMeRiwRVW",
        "outputId": "cba34753-c0d7-4ccb-bd44-88f2a17f1650"
      },
      "execution_count": 44,
      "outputs": [
        {
          "output_type": "stream",
          "name": "stdout",
          "text": [
            "List of regions and their population percentage over 60:\n",
            ">>> Eastern Mediterranean = 5.62%\n",
            ">>> Europe = 19.77490566037736%\n",
            ">>> Africa = 5.2206521739130425%\n",
            ">>> Americas = 10.943714285714286%\n",
            ">>> Western Pacific = 10.162962962962963%\n",
            ">>> South-East Asia = 8.76909090909091%\n"
          ]
        }
      ]
    },
    {
      "cell_type": "markdown",
      "source": [
        "Europe is the region with the highest percentage of population over 60 with a total population of 904 315 000 about 178 827 000 people are over 60 leading to the percentage of 19.77% of its population over 60."
      ],
      "metadata": {
        "id": "IAVfU3r266n-"
      }
    },
    {
      "cell_type": "markdown",
      "source": [
        "## 5. Relationship between fertility Rate and income"
      ],
      "metadata": {
        "id": "ZtN6kkos8TVQ"
      }
    },
    {
      "cell_type": "code",
      "source": [
        "plt.scatter(database[\"FertilityRate\"], database[\"GNI\"])\n",
        "plt.xlabel(\"Fertility rate\")\n",
        "plt.ylabel(\"Gross National Income\")\n",
        "plt.show()"
      ],
      "metadata": {
        "colab": {
          "base_uri": "https://localhost:8080/",
          "height": 279
        },
        "id": "j2drYItc9Yt3",
        "outputId": "40607af0-9e01-4e73-8753-695456f3214a"
      },
      "execution_count": 27,
      "outputs": [
        {
          "output_type": "display_data",
          "data": {
            "text/plain": [
              "<Figure size 432x288 with 1 Axes>"
            ],
            "image/png": "[encoded data removed]"
          },
          "metadata": {
            "needs_background": "light"
          }
        }
      ]
    },
    {
      "cell_type": "markdown",
      "source": [
        "Observing the graph you can see that the smaller the fertility rate the higher the income and visa versa, yes the fertility decrease as income increases. There are a few countries that do not follow this trend you can easily spot them on the graph above as they do not follow the majority but on their own."
      ],
      "metadata": {
        "id": "E-lUd0ugDJD8"
      }
    },
    {
      "cell_type": "markdown",
      "source": [
        "## 6. Region with lowest literacy rate"
      ],
      "metadata": {
        "id": "hwuGIeM6FQqR"
      }
    },
    {
      "cell_type": "code",
      "source": [
        "lowest_literacy_region = 0\n",
        "literacy_database = database[database[\"LiteracyRate\"].notnull()]\n",
        "print(\"List of regions and the percentage of their literacy rate:\")\n",
        "for region in regions:\n",
        "  mean_region_literacy = literacy_database[literacy_database[\"Region\"] == region][\"LiteracyRate\"].sum() / len(literacy_database[literacy_database[\"Region\"] == region][\"LiteracyRate\"])\n",
        "  print(f\">>> {region} = {mean_region_literacy}%\")\n"
      ],
      "metadata": {
        "colab": {
          "base_uri": "https://localhost:8080/"
        },
        "id": "U37nk5TEFrFK",
        "outputId": "1e99fc85-dc7e-4426-c139-a55e46f22892"
      },
      "execution_count": 49,
      "outputs": [
        {
          "output_type": "stream",
          "name": "stdout",
          "text": [
            "List of regions and the percentage of their literacy rate:\n",
            ">>> Eastern Mediterranean = 82.52000000000001%\n",
            ">>> Europe = 98.78076923076922%\n",
            ">>> Africa = 69.09166666666664%\n",
            ">>> Americas = 92.43529411764705%\n",
            ">>> Western Pacific = 90.12222222222222%\n",
            ">>> South-East Asia = 71.78%\n"
          ]
        }
      ]
    },
    {
      "cell_type": "markdown",
      "source": [
        "Africa is the region with the lowest literacy rate, out of 607 782 000 people only 419 927 000 people are literate leading  to a literacy rate of 69.09% which is followed by South-East Asia with a literacy rate of 71.78% meaning out of 257 483 000 people only 184 821 000 are literate."
      ],
      "metadata": {
        "id": "TvtPC-KkWY4a"
      }
    },
    {
      "cell_type": "markdown",
      "source": [
        "## 7. Region with lowest child mortality rate"
      ],
      "metadata": {
        "id": "3ukL3NYAYjew"
      }
    },
    {
      "cell_type": "code",
      "source": [
        "print(\"List of regions and their average child mortality rate:\")\n",
        "for region in regions:\n",
        "  mean_region_child_mortality = database[database['Region'] == region]['ChildMortality'].sum() / len(database[database['Region'] == region]['ChildMortality'])\n",
        "\n",
        "  print(f\">>> {region} = {mean_region_child_mortality}\")"
      ],
      "metadata": {
        "colab": {
          "base_uri": "https://localhost:8080/"
        },
        "id": "GSWYSFZZa4z1",
        "outputId": "c349ec79-b6dc-4f11-c0df-1b7fc20706b9"
      },
      "execution_count": 52,
      "outputs": [
        {
          "output_type": "stream",
          "name": "stdout",
          "text": [
            "List of regions and their average child mortality rate:\n",
            ">>> Eastern Mediterranean = 40.25\n",
            ">>> Europe = 10.050943396226414\n",
            ">>> Africa = 84.03695652173914\n",
            ">>> Americas = 19.322857142857146\n",
            ">>> Western Pacific = 24.711111111111112\n",
            ">>> South-East Asia = 35.04545454545455\n"
          ]
        }
      ]
    },
    {
      "cell_type": "markdown",
      "source": [
        "Europe, Americas and Western Pacific are the regions with the lowest child mortality rate at 10.05, 19.32 and 24.71 respectivily. "
      ],
      "metadata": {
        "id": "wZ1zsDPEekt4"
      }
    },
    {
      "cell_type": "markdown",
      "source": [
        "## 8. Life expectancy across different regions"
      ],
      "metadata": {
        "id": "gBb0CsYgfNIj"
      }
    },
    {
      "cell_type": "code",
      "source": [
        "eastern_mediterranean_LE = database[database[\"Region\"] == regions[0]][\"LifeExpectancy\"]\n",
        "europe_LE =database[database[\"Region\"] == regions[1]][\"LifeExpectancy\"]\n",
        "africa_LE = database[database[\"Region\"] == regions[2]][\"LifeExpectancy\"]\n",
        "Americas_LE = database[database[\"Region\"] == regions[3]][\"LifeExpectancy\"]\n",
        "western_pacific_LE = database[database[\"Region\"] == regions[4]][\"LifeExpectancy\"]\n",
        "south_east_asia_LE = database[database[\"Region\"] == regions[5]][\"LifeExpectancy\"]\n",
        "region_LE = [eastern_mediterranean_LE, europe_LE, africa_LE, Americas_LE, western_pacific_LE, south_east_asia_LE]\n",
        "\n",
        "plt.boxplot(region_LE, labels=regions, vert=False)\n",
        "plt.title(\"Life expectancy across different regions\")\n",
        "plt.show()\n"
      ],
      "metadata": {
        "colab": {
          "base_uri": "https://localhost:8080/",
          "height": 336
        },
        "id": "dUvgLkGEeOZN",
        "outputId": "bd379f8c-2abe-4773-9beb-76ac92e0d9d1"
      },
      "execution_count": 63,
      "outputs": [
        {
          "output_type": "stream",
          "name": "stderr",
          "text": [
            "/usr/local/lib/python3.7/dist-packages/matplotlib/cbook/__init__.py:1376: VisibleDeprecationWarning: Creating an ndarray from ragged nested sequences (which is a list-or-tuple of lists-or-tuples-or ndarrays with different lengths or shapes) is deprecated. If you meant to do this, you must specify 'dtype=object' when creating the ndarray.\n",
            "  X = np.atleast_1d(X.T if isinstance(X, np.ndarray) else np.asarray(X))\n"
          ]
        },
        {
          "output_type": "display_data",
          "data": {
            "text/plain": [
              "<Figure size 432x288 with 1 Axes>"
            ],
            "image/png": "[encoded data removed]"
          },
          "metadata": {
            "needs_background": "light"
          }
        }
      ]
    },
    {
      "cell_type": "markdown",
      "source": [
        "Observing the above diagram you can tell that Africa is the region with the lowest life expectancy since the average life expactancy of any region in the diagram is located within the interquartile range(2nd and 3rd quaters) meaning African countries people live shorter compared to other regions and Europe is the region with the greatest life expactancy compared to others, Europeans live longer than other regions. The Eastern Mediterranean has the widest range of life expectancy compared every other region(life expactancy is more spread out) and the Americas has a narrow range of life expactacy."
      ],
      "metadata": {
        "id": "JiR738CG797w"
      }
    },
    {
      "cell_type": "markdown",
      "source": [
        "## 9. Relationship between Life expectancy and wealth"
      ],
      "metadata": {
        "id": "n4ndqmUEDbzy"
      }
    },
    {
      "cell_type": "code",
      "source": [
        "eastern_mediterranean_wealth = database[database[\"Region\"] == regions[0]][\"GNI\"]\n",
        "europe_wealth = database[database[\"Region\"] == regions[1]][\"GNI\"]\n",
        "africa_wealth = database[database[\"Region\"] == regions[2]][\"GNI\"]\n",
        "Americas_wealth = database[database[\"Region\"] == regions[3]][\"GNI\"]\n",
        "western_pacific_wealth = database[database[\"Region\"] == regions[4]][\"GNI\"]\n",
        "south_east_asia_wealth = database[database[\"Region\"] == regions[5]][\"GNI\"]\n",
        "\n",
        "plt.scatter(europe_LE, europe_wealth, label=regions[1], color=\"green\")\n",
        "plt.scatter(africa_LE, africa_wealth, label=regions[2], color=\"yellow\")\n",
        "plt.scatter(Americas_LE, Americas_LE, label=regions[3], color=\"blue\")\n",
        "plt.scatter(western_pacific_LE, western_pacific_wealth, label=regions[4], color=\"orange\")\n",
        "plt.scatter(south_east_asia_LE, south_east_asia_wealth, label=regions[5], color=\"black\")\n",
        "plt.scatter(eastern_mediterranean_LE, eastern_mediterranean_wealth, label=regions[0], color=\"red\")\n",
        "plt.legend()\n",
        "plt.xlabel(\"Life expectancy (Years)\")\n",
        "plt.ylabel(\"GNI (per capita gross national income)\")\n",
        "plt.show"
      ],
      "metadata": {
        "colab": {
          "base_uri": "https://localhost:8080/",
          "height": 296
        },
        "id": "wWRw_5h6JpCG",
        "outputId": "3e29b8e1-10ff-4cae-e66b-88ddd5dbb83f"
      },
      "execution_count": 67,
      "outputs": [
        {
          "output_type": "execute_result",
          "data": {
            "text/plain": [
              "<function matplotlib.pyplot.show>"
            ]
          },
          "metadata": {},
          "execution_count": 67
        },
        {
          "output_type": "display_data",
          "data": {
            "text/plain": [
              "<Figure size 432x288 with 1 Axes>"
            ],
            "image/png": "[encoded data removed]"
          },
          "metadata": {
            "needs_background": "light"
          }
        }
      ]
    },
    {
      "cell_type": "markdown",
      "source": [
        "For Europe, Western Pacific, Eastern Mediterranean and South-East Asia as their countries countries wealth increase their life expectancy also increase but in some regions the increse is slow i.e South-East Asia.Africa and Amaricas regions are constant, as life expectancy increase their wealth remains the same but in Africa there is a slight increase in wealth as life expactancy increase thus the outliers in the graph. "
      ],
      "metadata": {
        "id": "sq4cgx3pQDAz"
      }
    },
    {
      "cell_type": "markdown",
      "source": [
        "## Relationship between wealth and fertility"
      ],
      "metadata": {
        "id": "cIRJNvhyV36x"
      }
    },
    {
      "cell_type": "code",
      "source": [
        "eastern_mediterranean_fertility = database[database[\"Region\"] == regions[0]][\"FertilityRate\"]\n",
        "europe_fertility = database[database[\"Region\"] == regions[1]][\"FertilityRate\"]\n",
        "africa_fertility = database[database[\"Region\"] == regions[2]][\"FertilityRate\"]\n",
        "Americas_fertility = database[database[\"Region\"] == regions[3]][\"FertilityRate\"]\n",
        "western_pacific_fertility = database[database[\"Region\"] == regions[4]][\"FertilityRate\"]\n",
        "south_east_asia_fertility = database[database[\"Region\"] == regions[5]][\"FertilityRate\"]\n",
        "\n",
        "plt.scatter(europe_fertility, europe_wealth, label=regions[1], color=\"green\")\n",
        "plt.scatter(africa_fertility, africa_wealth, label=regions[2], color=\"yellow\")\n",
        "plt.scatter(Americas_fertility, Americas_LE, label=regions[3], color=\"blue\")\n",
        "plt.scatter(western_pacific_fertility, western_pacific_wealth, label=regions[4], color=\"orange\")\n",
        "plt.scatter(south_east_asia_fertility, south_east_asia_wealth, label=regions[5], color=\"black\")\n",
        "plt.scatter(eastern_mediterranean_fertility, eastern_mediterranean_wealth, label=regions[0], color=\"red\")\n",
        "plt.legend()\n",
        "plt.xlabel(\"Fertility Rate (Avg. number of children per woman)\")\n",
        "plt.ylabel(\"GNI (per capita gross national income)\")\n",
        "plt.show"
      ],
      "metadata": {
        "colab": {
          "base_uri": "https://localhost:8080/",
          "height": 296
        },
        "id": "NcVzExnOTkjF",
        "outputId": "e17511dc-d5ac-4ba5-9eae-b5a49c6b9911"
      },
      "execution_count": 68,
      "outputs": [
        {
          "output_type": "execute_result",
          "data": {
            "text/plain": [
              "<function matplotlib.pyplot.show>"
            ]
          },
          "metadata": {},
          "execution_count": 68
        },
        {
          "output_type": "display_data",
          "data": {
            "text/plain": [
              "<Figure size 432x288 with 1 Axes>"
            ],
            "image/png": "[encoded data removed]"
          },
          "metadata": {
            "needs_background": "light"
          }
        }
      ]
    },
    {
      "cell_type": "markdown",
      "source": [
        "In Europe, Western Pacific, South-East Asia and Eastern Mediterranean an increase in fertility rate results to a decrease in wealth and visa versa. Africa and Americas both are constant meaning an increase in fertility rate results to the same wealth but in Africa there are few countries not following the trend."
      ],
      "metadata": {
        "id": "dNU92XhMWEt-"
      }
    },
    {
      "cell_type": "markdown",
      "source": [
        "## 10. Relationship between life expactancy and literacy rate"
      ],
      "metadata": {
        "id": "BLCAPWHyYNKB"
      }
    },
    {
      "cell_type": "code",
      "source": [
        "africa_literacy = database[database[\"Region\"] == regions[2]][\"LiteracyRate\"]\n",
        "other_regions_LE = database[database[\"Region\"] != \"Africa\"][\"LifeExpectancy\"]\n",
        "other_regions_literacy = database[database[\"Region\"] != \"Africa\"][\"LiteracyRate\"]\n",
        "\n",
        "plt.scatter(other_regions_literacy, other_regions_LE, label=\"Other regions\", color=\"black\")\n",
        "plt.scatter(africa_literacy, africa_LE, label=\"Africa\",color=\"red\")\n",
        "plt.xlabel(\"Literacy rate (%)\")\n",
        "plt.ylabel(\"Life expectancy (Years)\")\n",
        "plt.legend()\n",
        "plt.show()"
      ],
      "metadata": {
        "colab": {
          "base_uri": "https://localhost:8080/",
          "height": 279
        },
        "id": "5XZ4mTXhZdMb",
        "outputId": "7c405ce6-126d-4e2b-8ae2-33c2229983cf"
      },
      "execution_count": 77,
      "outputs": [
        {
          "output_type": "display_data",
          "data": {
            "text/plain": [
              "<Figure size 432x288 with 1 Axes>"
            ],
            "image/png": "[encoded data removed]"
          },
          "metadata": {
            "needs_background": "light"
          }
        }
      ]
    },
    {
      "cell_type": "markdown",
      "source": [
        "In other regions as literacy rate increase life expectancy also increase but for African countries as literacy rate increase life expactancy remains constant but there are a few outliers that follow the trend of the other regions.\n",
        "\n",
        "More than half of literacy rate values were missing in the provided dataset leading to the above observation to be a bit inaccurate, so we can not be too confident about the above analysis."
      ],
      "metadata": {
        "id": "n6-6pypsdrZk"
      }
    }
  ]
}