{
  "nbformat": 4,
  "nbformat_minor": 0,
  "metadata": {
    "colab": {
      "name": "Untitled2.ipynb",
      "provenance": [],
      "authorship_tag": "ABX9TyPtu5HBDCE+THhyCyInESrG"
    },
    "kernelspec": {
      "name": "python3",
      "display_name": "Python 3"
    },
    "language_info": {
      "name": "python"
    }
  },
  "cells": [
    {
      "cell_type": "markdown",
      "source": [
        "# This is my Notebook\n",
        "and these are the notes"
      ],
      "metadata": {
        "id": "WFJ-fhEC_6TN"
      }
    },
    {
      "cell_type": "code",
      "source": [
        "import pandas as pd\n",
        "from matplotlib import pyplot as plt\n",
        "\n",
        "population = pd.read_csv(\"data.csv\").head()\n",
        "plt.bar(population[\"Country\"], population[\"Under15\"], label=\"Visual Representation\", color=\"red\")\n",
        "plt.legend()\n",
        "plt.show()"
      ],
      "metadata": {
        "colab": {
          "base_uri": "https://localhost:8080/",
          "height": 265
        },
        "id": "Pva8n8XgABZf",
        "outputId": "c0cf4df6-49b3-4dc0-8807-611a318a8607"
      },
      "execution_count": null,
      "outputs": [
        {
          "output_type": "display_data",
          "data": {
            "text/plain": [
              "<Figure size 432x288 with 1 Axes>"
            ],
            "image/png": "[encoded data removed]"
          },
          "metadata": {
            "needs_background": "light"
          }
        }
      ]
    },
    {
      "cell_type": "code",
      "source": [
        "import pandas as pd\n",
        "from matplotlib import pyplot as plt\n",
        "\n",
        "\n",
        "population = pd.read_csv(\"data.csv\")\n",
        "african_countries = population[population[\"Region\"] == \"Africa\"]\n",
        "print(f\"{african_countries['Country']} {african_countries['Population']}\")"
      ],
      "metadata": {
        "id": "u0HgKDo_oyTT",
        "outputId": "1720267b-cad7-4d1c-cee3-db7796cfa775",
        "colab": {
          "base_uri": "https://localhost:8080/"
        }
      },
      "execution_count": 9,
      "outputs": [
        {
          "output_type": "stream",
          "name": "stdout",
          "text": [
            "2                               Algeria\n",
            "4                                Angola\n",
            "18                                Benin\n",
            "22                             Botswana\n",
            "26                         Burkina Faso\n",
            "27                              Burundi\n",
            "29                             Cameroon\n",
            "31                           Cape Verde\n",
            "32             Central African Republic\n",
            "33                                 Chad\n",
            "37                              Comoros\n",
            "38                                Congo\n",
            "41                          Ivory Coast\n",
            "47     Democratic Republic of the Congo\n",
            "55                    Equatorial Guinea\n",
            "56                              Eritrea\n",
            "58                             Ethiopia\n",
            "62                                Gabon\n",
            "63                               Gambia\n",
            "66                                Ghana\n",
            "70                               Guinea\n",
            "71                        Guinea-Bissau\n",
            "88                                Kenya\n",
            "95                              Lesotho\n",
            "96                              Liberia\n",
            "100                          Madagascar\n",
            "101                              Malawi\n",
            "104                                Mali\n",
            "107                          Mauritania\n",
            "108                           Mauritius\n",
            "115                          Mozambique\n",
            "117                             Namibia\n",
            "123                               Niger\n",
            "124                             Nigeria\n",
            "142                              Rwanda\n",
            "148               Sao Tome and Principe\n",
            "150                             Senegal\n",
            "152                          Seychelles\n",
            "153                        Sierra Leone\n",
            "159                        South Africa\n",
            "165                           Swaziland\n",
            "173                                Togo\n",
            "180                              Uganda\n",
            "184         United Republic of Tanzania\n",
            "192                              Zambia\n",
            "193                            Zimbabwe\n",
            "Name: Country, dtype: object 2       38482\n",
            "4       20821\n",
            "18      10051\n",
            "22       2004\n",
            "26      16460\n",
            "27       9850\n",
            "29      21700\n",
            "31        494\n",
            "32       4525\n",
            "33      12448\n",
            "37        718\n",
            "38       4337\n",
            "41      19840\n",
            "47      65705\n",
            "55        736\n",
            "56       6131\n",
            "58      91729\n",
            "62       1633\n",
            "63       1791\n",
            "66      25366\n",
            "70      11451\n",
            "71       1664\n",
            "88      43178\n",
            "95       2052\n",
            "96       4190\n",
            "100     22294\n",
            "101     15906\n",
            "104     14854\n",
            "107      3796\n",
            "108      1240\n",
            "115     25203\n",
            "117      2259\n",
            "123     17157\n",
            "124    169000\n",
            "142     11458\n",
            "148       188\n",
            "150     13726\n",
            "152        92\n",
            "153      5979\n",
            "159     52386\n",
            "165      1231\n",
            "173      6643\n",
            "180     36346\n",
            "184     47783\n",
            "192     14075\n",
            "193     13724\n",
            "Name: Population, dtype: int64\n"
          ]
        }
      ]
    }
  ]
}